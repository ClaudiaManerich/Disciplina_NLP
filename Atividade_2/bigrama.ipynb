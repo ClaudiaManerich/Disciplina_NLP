{
 "cells": [
  {
   "cell_type": "code",
   "execution_count": 153,
   "id": "407b7e8c-0a84-4de8-b196-a47b8e6efcc8",
   "metadata": {},
   "outputs": [
    {
     "name": "stdout",
     "output_type": "stream",
     "text": [
      "['MARIA', 'ANA', 'JULIANA', 'FERNANDA', 'BEATRIZ', 'LARISSA', 'AMANDA', 'CAMILA', 'ROBERTA', 'VANESSA', 'JOÃƒO', 'JOSÃ‰', 'FRANCISCO', 'CARLOS', 'LUCAS', 'GABRIEL', 'PEDRO', 'RAFAEL', 'TIAGO', 'RICARDO', 'MARIA', 'ANA', 'JULIANA', 'FERNANDA', 'BEATRIZ', 'LARISSA', 'AMANDA', 'CAMILA', 'ROBERTA', 'VANESSA', 'JOÃƒO', 'JOSÃ‰', 'FRANCISCO', 'CARLOS', 'LUCAS', 'GABRIEL', 'PEDRO', 'RAFAEL', 'TIAGO', 'RICARDO', 'MARIA', 'ANA', 'JULIANA', 'FERNANDA', 'BEATRIZ', 'LARISSA', 'AMANDA', 'CAMILA', 'ROBERTA', 'VANESSA', 'JOÃƒO', 'JOSÃ‰', 'FRANCISCO', 'CARLOS', 'LUCAS', 'GABRIEL', 'PEDRO', 'RAFAEL', 'TIAGO', 'RICARDO', 'MARIA', 'ANA', 'JULIANA', 'FERNANDA', 'BEATRIZ', 'LARISSA', 'AMANDA', 'CAMILA', 'ROBERTA', 'VANESSA', 'JOÃƒO', 'JOSÃ‰', 'FRANCISCO', 'CARLOS', 'LUCAS', 'GABRIEL', 'PEDRO', 'RAFAEL', 'TIAGO', 'RICARDO', 'MARIA', 'ANA', 'JULIANA', 'FERNANDA', 'BEATRIZ', 'LARISSA', 'AMANDA', 'CAMILA', 'ROBERTA', 'VANESSA', 'JOÃƒO', 'JOSÃ‰', 'FRANCISCO', 'CARLOS', 'LUCAS', 'GABRIEL', 'PEDRO', 'RAFAEL', 'TIAGO', 'RICARDO', 'MARIA', 'ANA', 'JULIANA', 'FERNANDA', 'BEATRIZ', 'LARISSA', 'AMANDA', 'CAMILA', 'ROBERTA', 'VANESSA', 'JOÃƒO', 'JOSÃ‰', 'FRANCISCO', 'CARLOS', 'LUCAS', 'GABRIEL', 'PEDRO', 'RAFAEL', 'TIAGO', 'RICARDO', 'MARIA', 'ANA', 'JULIANA', 'FERNANDA', 'BEATRIZ', 'LARISSA', 'AMANDA', 'CAMILA', 'ROBERTA', 'VANESSA', 'JOÃƒO', 'JOSÃ‰', 'FRANCISCO', 'CARLOS', 'LUCAS', 'GABRIEL', 'PEDRO', 'RAFAEL', 'TIAGO', 'RICARDO', 'MARIA', 'ANA', 'JULIANA', 'FERNANDA', 'BEATRIZ', 'LARISSA', 'AMANDA', 'CAMILA', 'ROBERTA', 'VANESSA', 'JOÃƒO', 'JOSÃ‰', 'FRANCISCO', 'CARLOS', 'LUCAS', 'GABRIEL', 'PEDRO', 'RAFAEL', 'TIAGO', 'RICARDO', 'MARIA', 'ANA', 'JULIANA', 'FERNANDA', 'BEATRIZ', 'LARISSA', 'AMANDA', 'CAMILA', 'ROBERTA', 'VANESSA', 'JOÃƒO', 'JOSÃ‰', 'FRANCISCO', 'CARLOS', 'LUCAS', 'GABRIEL', 'PEDRO', 'RAFAEL', 'TIAGO', 'RICARDO', 'MARIA', 'ANA', 'JULIANA', 'FERNANDA', 'BEATRIZ', 'LARISSA', 'AMANDA', 'CAMILA', 'ROBERTA', 'VANESSA', 'JOÃƒO', 'JOSÃ‰', 'FRANCISCO', 'CARLOS', 'LUCAS', 'GABRIEL', 'PEDRO', 'RAFAEL', 'TIAGO', 'RICARDO']\n"
     ]
    }
   ],
   "source": [
    "with open('22987.json', 'r') as file: # Lê o arquivo e extrai as palavras\n",
    "    text = file.read()  # Lê o conteúdo inteiro do arquivo como uma única string\n",
    "\n",
    "# Separa o conteúdo em palavras\n",
    "words = text.split()\n",
    "\n",
    "word = words[:200] # Define a variável word como as primeiras 200 palavras\n",
    "\n",
    "print(word)  # Imprime as primeiras 200 palavras"
   ]
  },
  {
   "cell_type": "code",
   "execution_count": 154,
   "id": "3ddc06a1-e4c0-45ce-972d-2c54378279f1",
   "metadata": {},
   "outputs": [
    {
     "name": "stdout",
     "output_type": "stream",
     "text": [
      "<S> M\n",
      "M A\n",
      "A R\n",
      "R I\n",
      "I A\n",
      "A <E>\n",
      "<S> A\n",
      "A N\n",
      "N A\n",
      "A <E>\n",
      "<S> J\n",
      "J U\n",
      "U L\n",
      "L I\n",
      "I A\n",
      "A N\n",
      "N A\n",
      "A <E>\n"
     ]
    }
   ],
   "source": [
    "for w in words[:3]:\n",
    "    chs = ['<S>'] + list(w) + ['<E>']\n",
    "    for ch1, ch2 in zip(chs, chs[1:]):\n",
    "        print(ch1, ch2)"
   ]
  },
  {
   "cell_type": "code",
   "execution_count": 155,
   "id": "f3b91591-44d4-406c-85d4-ced5264faab6",
   "metadata": {},
   "outputs": [
    {
     "data": {
      "text/plain": [
       "500"
      ]
     },
     "execution_count": 155,
     "metadata": {},
     "output_type": "execute_result"
    }
   ],
   "source": [
    "len(words)"
   ]
  },
  {
   "cell_type": "code",
   "execution_count": 156,
   "id": "490ad58b-1b52-4d45-8f68-0534c14bf2db",
   "metadata": {},
   "outputs": [
    {
     "data": {
      "text/plain": [
       "3"
      ]
     },
     "execution_count": 156,
     "metadata": {},
     "output_type": "execute_result"
    }
   ],
   "source": [
    "min(len(w) for w in words)"
   ]
  },
  {
   "cell_type": "code",
   "execution_count": 157,
   "id": "3317297a-879d-49ac-a20f-fb526b97d5f7",
   "metadata": {},
   "outputs": [
    {
     "data": {
      "text/plain": [
       "9"
      ]
     },
     "execution_count": 157,
     "metadata": {},
     "output_type": "execute_result"
    }
   ],
   "source": [
    "max(len(w) for w in words)"
   ]
  },
  {
   "cell_type": "code",
   "execution_count": 158,
   "id": "047711de-7372-4515-a0cc-5f341e113bac",
   "metadata": {},
   "outputs": [
    {
     "name": "stdout",
     "output_type": "stream",
     "text": [
      "<S> M\n",
      "M A\n",
      "A R\n",
      "R I\n",
      "I A\n",
      "A <E>\n",
      "<S> A\n",
      "A N\n",
      "N A\n",
      "A <E>\n",
      "<S> J\n",
      "J U\n",
      "U L\n",
      "L I\n",
      "I A\n",
      "A N\n",
      "N A\n",
      "A <E>\n",
      "<S> F\n",
      "F E\n",
      "E R\n",
      "R N\n",
      "N A\n",
      "A N\n",
      "N D\n",
      "D A\n",
      "A <E>\n",
      "<S> B\n",
      "B E\n",
      "E A\n",
      "A T\n",
      "T R\n",
      "R I\n",
      "I Z\n",
      "Z <E>\n",
      "<S> L\n",
      "L A\n",
      "A R\n",
      "R I\n",
      "I S\n",
      "S S\n",
      "S A\n",
      "A <E>\n",
      "<S> A\n",
      "A M\n",
      "M A\n",
      "A N\n",
      "N D\n",
      "D A\n",
      "A <E>\n",
      "<S> C\n",
      "C A\n",
      "A M\n",
      "M I\n",
      "I L\n",
      "L A\n",
      "A <E>\n",
      "<S> R\n",
      "R O\n",
      "O B\n",
      "B E\n",
      "E R\n",
      "R T\n",
      "T A\n",
      "A <E>\n",
      "<S> V\n",
      "V A\n",
      "A N\n",
      "N E\n",
      "E S\n",
      "S S\n",
      "S A\n",
      "A <E>\n",
      "<S> J\n",
      "J O\n",
      "O Ã\n",
      "Ã ƒ\n",
      "ƒ O\n",
      "O <E>\n",
      "<S> J\n",
      "J O\n",
      "O S\n",
      "S Ã\n",
      "Ã ‰\n",
      "‰ <E>\n",
      "<S> F\n",
      "F R\n",
      "R A\n",
      "A N\n",
      "N C\n",
      "C I\n",
      "I S\n",
      "S C\n",
      "C O\n",
      "O <E>\n",
      "<S> C\n",
      "C A\n",
      "A R\n",
      "R L\n",
      "L O\n",
      "O S\n",
      "S <E>\n",
      "<S> L\n",
      "L U\n",
      "U C\n",
      "C A\n",
      "A S\n",
      "S <E>\n",
      "<S> G\n",
      "G A\n",
      "A B\n",
      "B R\n",
      "R I\n",
      "I E\n",
      "E L\n",
      "L <E>\n",
      "<S> P\n",
      "P E\n",
      "E D\n",
      "D R\n",
      "R O\n",
      "O <E>\n",
      "<S> R\n",
      "R A\n",
      "A F\n",
      "F A\n",
      "A E\n",
      "E L\n",
      "L <E>\n",
      "<S> T\n",
      "T I\n",
      "I A\n",
      "A G\n",
      "G O\n",
      "O <E>\n",
      "<S> R\n",
      "R I\n",
      "I C\n",
      "C A\n",
      "A R\n",
      "R D\n",
      "D O\n",
      "O <E>\n"
     ]
    }
   ],
   "source": [
    "b = {}\n",
    "for w in words[:20]:\n",
    "    chs = ['<S>'] + list(w) + ['<E>']\n",
    "    for ch1, ch2 in zip(chs, chs[1:]):\n",
    "        bigram = (ch1, ch2)\n",
    "        b[bigram] = b.get(bigram, 0) + 1\n",
    "        print(ch1, ch2)"
   ]
  },
  {
   "cell_type": "code",
   "execution_count": 159,
   "id": "af236d74-7487-421f-91d7-20dbdc8f35d4",
   "metadata": {},
   "outputs": [
    {
     "data": {
      "text/plain": [
       "[(('<S>', 'M'), 1),\n",
       " (('J', 'U'), 1),\n",
       " (('U', 'L'), 1),\n",
       " (('L', 'I'), 1),\n",
       " (('F', 'E'), 1),\n",
       " (('R', 'N'), 1),\n",
       " (('<S>', 'B'), 1),\n",
       " (('E', 'A'), 1),\n",
       " (('A', 'T'), 1),\n",
       " (('T', 'R'), 1),\n",
       " (('I', 'Z'), 1),\n",
       " (('Z', '<E>'), 1),\n",
       " (('M', 'I'), 1),\n",
       " (('I', 'L'), 1),\n",
       " (('O', 'B'), 1),\n",
       " (('R', 'T'), 1),\n",
       " (('T', 'A'), 1),\n",
       " (('<S>', 'V'), 1),\n",
       " (('V', 'A'), 1),\n",
       " (('N', 'E'), 1),\n",
       " (('E', 'S'), 1),\n",
       " (('O', 'Ã'), 1),\n",
       " (('Ã', 'ƒ'), 1),\n",
       " (('ƒ', 'O'), 1),\n",
       " (('S', 'Ã'), 1),\n",
       " (('Ã', '‰'), 1),\n",
       " (('‰', '<E>'), 1),\n",
       " (('F', 'R'), 1),\n",
       " (('N', 'C'), 1),\n",
       " (('C', 'I'), 1),\n",
       " (('S', 'C'), 1),\n",
       " (('C', 'O'), 1),\n",
       " (('R', 'L'), 1),\n",
       " (('L', 'O'), 1),\n",
       " (('L', 'U'), 1),\n",
       " (('U', 'C'), 1),\n",
       " (('A', 'S'), 1),\n",
       " (('<S>', 'G'), 1),\n",
       " (('G', 'A'), 1),\n",
       " (('A', 'B'), 1),\n",
       " (('B', 'R'), 1),\n",
       " (('I', 'E'), 1),\n",
       " (('<S>', 'P'), 1),\n",
       " (('P', 'E'), 1),\n",
       " (('E', 'D'), 1),\n",
       " (('D', 'R'), 1),\n",
       " (('A', 'F'), 1),\n",
       " (('F', 'A'), 1),\n",
       " (('A', 'E'), 1),\n",
       " (('<S>', 'T'), 1),\n",
       " (('T', 'I'), 1),\n",
       " (('A', 'G'), 1),\n",
       " (('G', 'O'), 1),\n",
       " (('I', 'C'), 1),\n",
       " (('R', 'D'), 1),\n",
       " (('D', 'O'), 1),\n",
       " (('M', 'A'), 2),\n",
       " (('<S>', 'A'), 2),\n",
       " (('<S>', 'F'), 2),\n",
       " (('E', 'R'), 2),\n",
       " (('N', 'D'), 2),\n",
       " (('D', 'A'), 2),\n",
       " (('B', 'E'), 2),\n",
       " (('<S>', 'L'), 2),\n",
       " (('L', 'A'), 2),\n",
       " (('I', 'S'), 2),\n",
       " (('S', 'S'), 2),\n",
       " (('S', 'A'), 2),\n",
       " (('A', 'M'), 2),\n",
       " (('<S>', 'C'), 2),\n",
       " (('R', 'O'), 2),\n",
       " (('J', 'O'), 2),\n",
       " (('O', 'S'), 2),\n",
       " (('R', 'A'), 2),\n",
       " (('S', '<E>'), 2),\n",
       " (('E', 'L'), 2),\n",
       " (('L', '<E>'), 2),\n",
       " (('I', 'A'), 3),\n",
       " (('N', 'A'), 3),\n",
       " (('<S>', 'J'), 3),\n",
       " (('<S>', 'R'), 3),\n",
       " (('A', 'R'), 4),\n",
       " (('C', 'A'), 4),\n",
       " (('R', 'I'), 5),\n",
       " (('O', '<E>'), 5),\n",
       " (('A', 'N'), 6),\n",
       " (('A', '<E>'), 9)]"
      ]
     },
     "execution_count": 159,
     "metadata": {},
     "output_type": "execute_result"
    }
   ],
   "source": [
    "sorted(b.items(), key = lambda kv: kv[1]) #retorna a quantidade de vezes que uma letra apareceu seguida de outra letra."
   ]
  },
  {
   "cell_type": "code",
   "execution_count": 160,
   "id": "687b7e46-e456-47ba-ab01-192d787bf108",
   "metadata": {},
   "outputs": [
    {
     "data": {
      "text/plain": [
       "[(('A', '<E>'), 9),\n",
       " (('A', 'N'), 6),\n",
       " (('R', 'I'), 5),\n",
       " (('O', '<E>'), 5),\n",
       " (('A', 'R'), 4),\n",
       " (('C', 'A'), 4),\n",
       " (('I', 'A'), 3),\n",
       " (('N', 'A'), 3),\n",
       " (('<S>', 'J'), 3),\n",
       " (('<S>', 'R'), 3),\n",
       " (('M', 'A'), 2),\n",
       " (('<S>', 'A'), 2),\n",
       " (('<S>', 'F'), 2),\n",
       " (('E', 'R'), 2),\n",
       " (('N', 'D'), 2),\n",
       " (('D', 'A'), 2),\n",
       " (('B', 'E'), 2),\n",
       " (('<S>', 'L'), 2),\n",
       " (('L', 'A'), 2),\n",
       " (('I', 'S'), 2),\n",
       " (('S', 'S'), 2),\n",
       " (('S', 'A'), 2),\n",
       " (('A', 'M'), 2),\n",
       " (('<S>', 'C'), 2),\n",
       " (('R', 'O'), 2),\n",
       " (('J', 'O'), 2),\n",
       " (('O', 'S'), 2),\n",
       " (('R', 'A'), 2),\n",
       " (('S', '<E>'), 2),\n",
       " (('E', 'L'), 2),\n",
       " (('L', '<E>'), 2),\n",
       " (('<S>', 'M'), 1),\n",
       " (('J', 'U'), 1),\n",
       " (('U', 'L'), 1),\n",
       " (('L', 'I'), 1),\n",
       " (('F', 'E'), 1),\n",
       " (('R', 'N'), 1),\n",
       " (('<S>', 'B'), 1),\n",
       " (('E', 'A'), 1),\n",
       " (('A', 'T'), 1),\n",
       " (('T', 'R'), 1),\n",
       " (('I', 'Z'), 1),\n",
       " (('Z', '<E>'), 1),\n",
       " (('M', 'I'), 1),\n",
       " (('I', 'L'), 1),\n",
       " (('O', 'B'), 1),\n",
       " (('R', 'T'), 1),\n",
       " (('T', 'A'), 1),\n",
       " (('<S>', 'V'), 1),\n",
       " (('V', 'A'), 1),\n",
       " (('N', 'E'), 1),\n",
       " (('E', 'S'), 1),\n",
       " (('O', 'Ã'), 1),\n",
       " (('Ã', 'ƒ'), 1),\n",
       " (('ƒ', 'O'), 1),\n",
       " (('S', 'Ã'), 1),\n",
       " (('Ã', '‰'), 1),\n",
       " (('‰', '<E>'), 1),\n",
       " (('F', 'R'), 1),\n",
       " (('N', 'C'), 1),\n",
       " (('C', 'I'), 1),\n",
       " (('S', 'C'), 1),\n",
       " (('C', 'O'), 1),\n",
       " (('R', 'L'), 1),\n",
       " (('L', 'O'), 1),\n",
       " (('L', 'U'), 1),\n",
       " (('U', 'C'), 1),\n",
       " (('A', 'S'), 1),\n",
       " (('<S>', 'G'), 1),\n",
       " (('G', 'A'), 1),\n",
       " (('A', 'B'), 1),\n",
       " (('B', 'R'), 1),\n",
       " (('I', 'E'), 1),\n",
       " (('<S>', 'P'), 1),\n",
       " (('P', 'E'), 1),\n",
       " (('E', 'D'), 1),\n",
       " (('D', 'R'), 1),\n",
       " (('A', 'F'), 1),\n",
       " (('F', 'A'), 1),\n",
       " (('A', 'E'), 1),\n",
       " (('<S>', 'T'), 1),\n",
       " (('T', 'I'), 1),\n",
       " (('A', 'G'), 1),\n",
       " (('G', 'O'), 1),\n",
       " (('I', 'C'), 1),\n",
       " (('R', 'D'), 1),\n",
       " (('D', 'O'), 1)]"
      ]
     },
     "execution_count": 160,
     "metadata": {},
     "output_type": "execute_result"
    }
   ],
   "source": [
    "sorted(b.items(), key = lambda kv: -kv[1]) #retorna a quantidade de vezes que um caractere é final e/ou inicial"
   ]
  },
  {
   "cell_type": "code",
   "execution_count": 161,
   "id": "71df966d-327d-4ba0-980c-662e625197c4",
   "metadata": {},
   "outputs": [],
   "source": [
    "import torch"
   ]
  },
  {
   "cell_type": "code",
   "execution_count": 165,
   "id": "f3811b71-38e7-442b-9ca7-bad42638fbf3",
   "metadata": {},
   "outputs": [],
   "source": [
    "N = torch.zeros((28, 28), dtype=torch.int32)"
   ]
  },
  {
   "cell_type": "code",
   "execution_count": 166,
   "id": "a2bb0448-3449-4a60-923d-57d051de5f93",
   "metadata": {},
   "outputs": [],
   "source": [
    "chars = sorted(list(set(''.join(words)))) # pega todas as listas de palavras e concatena tudo em uma string \n",
    "stoi = {s:i for i,s in enumerate(chars)}\n",
    "stoi['<S>'] = 23\n",
    "stoi['<E>'] = 24"
   ]
  },
  {
   "cell_type": "code",
   "execution_count": 167,
   "id": "b1d4ec6f-cc5c-4385-9b71-8fe0d77a1fc9",
   "metadata": {},
   "outputs": [
    {
     "data": {
      "text/plain": [
       "{'A': 0,\n",
       " 'B': 1,\n",
       " 'C': 2,\n",
       " 'D': 3,\n",
       " 'E': 4,\n",
       " 'F': 5,\n",
       " 'G': 6,\n",
       " 'I': 7,\n",
       " 'J': 8,\n",
       " 'L': 9,\n",
       " 'M': 10,\n",
       " 'N': 11,\n",
       " 'O': 12,\n",
       " 'P': 13,\n",
       " 'R': 14,\n",
       " 'S': 15,\n",
       " 'T': 16,\n",
       " 'U': 17,\n",
       " 'V': 18,\n",
       " 'Z': 19,\n",
       " 'Ã': 20,\n",
       " 'ƒ': 21,\n",
       " '‰': 22,\n",
       " '<S>': 23,\n",
       " '<E>': 24}"
      ]
     },
     "execution_count": 167,
     "metadata": {},
     "output_type": "execute_result"
    }
   ],
   "source": [
    "stoi"
   ]
  },
  {
   "cell_type": "code",
   "execution_count": 168,
   "id": "5f36e1b4-40cc-4266-8de4-221e511db1ea",
   "metadata": {},
   "outputs": [],
   "source": [
    "\n",
    "for w in words:\n",
    "    chs = ['<S>'] + list(w) + ['<E>']\n",
    "    for ch1, ch2 in zip(chs, chs[1:]):\n",
    "        ix1 = stoi[ch1]\n",
    "        ix2 = stoi[ch2]\n",
    "        N[ix1, ix2] += 1\n",
    "    "
   ]
  },
  {
   "cell_type": "code",
   "execution_count": 169,
   "id": "a48f1091-05f0-4958-a477-c0884f09eb18",
   "metadata": {},
   "outputs": [],
   "source": [
    "if ix1 < N.shape[0] and ix2 < N.shape[1]:\n",
    "    N[ix1, ix2] += 1\n",
    "else:\n",
    "    print(f\"Índices fora do limite: ix1={ix1}, ix2={ix2}\")"
   ]
  },
  {
   "cell_type": "code",
   "execution_count": 170,
   "id": "6bcbbed3-45d2-47f7-b818-d7cf33614440",
   "metadata": {},
   "outputs": [
    {
     "name": "stdout",
     "output_type": "stream",
     "text": [
      "ix1: 12, ix2: 24\n"
     ]
    }
   ],
   "source": [
    "print(f\"ix1: {ix1}, ix2: {ix2}\")"
   ]
  },
  {
   "cell_type": "code",
   "execution_count": 171,
   "id": "cd01f1f8-c8aa-4647-afc5-231e63ff7fea",
   "metadata": {},
   "outputs": [
    {
     "name": "stdout",
     "output_type": "stream",
     "text": [
      "torch.Size([28, 28])\n"
     ]
    }
   ],
   "source": [
    "print(N.shape) #verifica o tamanho de N"
   ]
  },
  {
   "cell_type": "code",
   "execution_count": 173,
   "id": "6a61b152-e0d1-4183-aeb7-09ceea5e7ee3",
   "metadata": {},
   "outputs": [
    {
     "data": {
      "text/plain": [
       "tensor([[  0,  25,   0,   0,  25,  25,  25,   0,   0,   0,  50, 150,   0,   0,\n",
       "         100,  25,  25,   0,   0,   0,   0,   0,   0,   0, 225,   0,   0,   0],\n",
       "        [  0,   0,   0,   0,  50,   0,   0,   0,   0,   0,   0,   0,   0,   0,\n",
       "          25,   0,   0,   0,   0,   0,   0,   0,   0,   0,   0,   0,   0,   0],\n",
       "        [100,   0,   0,   0,   0,   0,   0,  25,   0,   0,   0,   0,  25,   0,\n",
       "           0,   0,   0,   0,   0,   0,   0,   0,   0,   0,   0,   0,   0,   0],\n",
       "        [ 50,   0,   0,   0,   0,   0,   0,   0,   0,   0,   0,   0,  25,   0,\n",
       "          25,   0,   0,   0,   0,   0,   0,   0,   0,   0,   0,   0,   0,   0],\n",
       "        [ 25,   0,   0,  25,   0,   0,   0,   0,   0,  50,   0,   0,   0,   0,\n",
       "          50,  25,   0,   0,   0,   0,   0,   0,   0,   0,   0,   0,   0,   0],\n",
       "        [ 25,   0,   0,   0,  25,   0,   0,   0,   0,   0,   0,   0,   0,   0,\n",
       "          25,   0,   0,   0,   0,   0,   0,   0,   0,   0,   0,   0,   0,   0],\n",
       "        [ 25,   0,   0,   0,   0,   0,   0,   0,   0,   0,   0,   0,  25,   0,\n",
       "           0,   0,   0,   0,   0,   0,   0,   0,   0,   0,   0,   0,   0,   0],\n",
       "        [ 75,   0,  25,   0,  25,   0,   0,   0,   0,  25,   0,   0,   0,   0,\n",
       "           0,  50,   0,   0,   0,  25,   0,   0,   0,   0,   0,   0,   0,   0],\n",
       "        [  0,   0,   0,   0,   0,   0,   0,   0,   0,   0,   0,   0,  50,   0,\n",
       "           0,   0,   0,  25,   0,   0,   0,   0,   0,   0,   0,   0,   0,   0],\n",
       "        [ 50,   0,   0,   0,   0,   0,   0,  25,   0,   0,   0,   0,  25,   0,\n",
       "           0,   0,   0,  25,   0,   0,   0,   0,   0,   0,  50,   0,   0,   0],\n",
       "        [ 50,   0,   0,   0,   0,   0,   0,  25,   0,   0,   0,   0,   0,   0,\n",
       "           0,   0,   0,   0,   0,   0,   0,   0,   0,   0,   0,   0,   0,   0],\n",
       "        [ 75,   0,  25,  50,  25,   0,   0,   0,   0,   0,   0,   0,   0,   0,\n",
       "           0,   0,   0,   0,   0,   0,   0,   0,   0,   0,   0,   0,   0,   0],\n",
       "        [  0,  25,   0,   0,   0,   0,   0,   0,   0,   0,   0,   0,   0,   0,\n",
       "           0,  50,   0,   0,   0,   0,  25,   0,   0,   0, 126,   0,   0,   0],\n",
       "        [  0,   0,   0,   0,  25,   0,   0,   0,   0,   0,   0,   0,   0,   0,\n",
       "           0,   0,   0,   0,   0,   0,   0,   0,   0,   0,   0,   0,   0,   0],\n",
       "        [ 50,   0,   0,  25,   0,   0,   0, 125,   0,  25,   0,  25,  50,   0,\n",
       "           0,   0,  25,   0,   0,   0,   0,   0,   0,   0,   0,   0,   0,   0],\n",
       "        [ 50,   0,  25,   0,   0,   0,   0,   0,   0,   0,   0,   0,   0,   0,\n",
       "           0,  50,   0,   0,   0,   0,  25,   0,   0,   0,  50,   0,   0,   0],\n",
       "        [ 25,   0,   0,   0,   0,   0,   0,  25,   0,   0,   0,   0,   0,   0,\n",
       "          25,   0,   0,   0,   0,   0,   0,   0,   0,   0,   0,   0,   0,   0],\n",
       "        [  0,   0,  25,   0,   0,   0,   0,   0,   0,  25,   0,   0,   0,   0,\n",
       "           0,   0,   0,   0,   0,   0,   0,   0,   0,   0,   0,   0,   0,   0],\n",
       "        [ 25,   0,   0,   0,   0,   0,   0,   0,   0,   0,   0,   0,   0,   0,\n",
       "           0,   0,   0,   0,   0,   0,   0,   0,   0,   0,   0,   0,   0,   0],\n",
       "        [  0,   0,   0,   0,   0,   0,   0,   0,   0,   0,   0,   0,   0,   0,\n",
       "           0,   0,   0,   0,   0,   0,   0,   0,   0,   0,  25,   0,   0,   0],\n",
       "        [  0,   0,   0,   0,   0,   0,   0,   0,   0,   0,   0,   0,   0,   0,\n",
       "           0,   0,   0,   0,   0,   0,   0,  25,  25,   0,   0,   0,   0,   0],\n",
       "        [  0,   0,   0,   0,   0,   0,   0,   0,   0,   0,   0,   0,  25,   0,\n",
       "           0,   0,   0,   0,   0,   0,   0,   0,   0,   0,   0,   0,   0,   0],\n",
       "        [  0,   0,   0,   0,   0,   0,   0,   0,   0,   0,   0,   0,   0,   0,\n",
       "           0,   0,   0,   0,   0,   0,   0,   0,   0,   0,  25,   0,   0,   0],\n",
       "        [ 50,  25,  50,   0,   0,  50,  25,   0,  75,  50,  25,   0,   0,  25,\n",
       "          75,   0,  25,   0,  25,   0,   0,   0,   0,   0,   0,   0,   0,   0],\n",
       "        [  0,   0,   0,   0,   0,   0,   0,   0,   0,   0,   0,   0,   0,   0,\n",
       "           0,   0,   0,   0,   0,   0,   0,   0,   0,   0,   0,   0,   0,   0],\n",
       "        [  0,   0,   0,   0,   0,   0,   0,   0,   0,   0,   0,   0,   0,   0,\n",
       "           0,   0,   0,   0,   0,   0,   0,   0,   0,   0,   0,   0,   0,   0],\n",
       "        [  0,   0,   0,   0,   0,   0,   0,   0,   0,   0,   0,   0,   0,   0,\n",
       "           0,   0,   0,   0,   0,   0,   0,   0,   0,   0,   0,   0,   0,   0],\n",
       "        [  0,   0,   0,   0,   0,   0,   0,   0,   0,   0,   0,   0,   0,   0,\n",
       "           0,   0,   0,   0,   0,   0,   0,   0,   0,   0,   0,   0,   0,   0]],\n",
       "       dtype=torch.int32)"
      ]
     },
     "execution_count": 173,
     "metadata": {},
     "output_type": "execute_result"
    }
   ],
   "source": [
    "N"
   ]
  },
  {
   "cell_type": "code",
   "execution_count": 174,
   "id": "8685cdb1-9417-4a8f-a962-2a55e19adfa7",
   "metadata": {},
   "outputs": [
    {
     "data": {
      "text/plain": [
       "{0: 'A',\n",
       " 1: 'B',\n",
       " 2: 'C',\n",
       " 3: 'D',\n",
       " 4: 'E',\n",
       " 5: 'F',\n",
       " 6: 'G',\n",
       " 7: 'I',\n",
       " 8: 'J',\n",
       " 9: 'L',\n",
       " 10: 'M',\n",
       " 11: 'N',\n",
       " 12: 'O',\n",
       " 13: 'P',\n",
       " 14: 'R',\n",
       " 15: 'S',\n",
       " 16: 'T',\n",
       " 17: 'U',\n",
       " 18: 'V',\n",
       " 19: 'Z',\n",
       " 20: 'Ã',\n",
       " 21: 'ƒ',\n",
       " 22: '‰',\n",
       " 23: '<S>',\n",
       " 24: '<E>'}"
      ]
     },
     "execution_count": 174,
     "metadata": {},
     "output_type": "execute_result"
    }
   ],
   "source": [
    "itos = {i:s for s,i in stoi.items()}\n",
    "itos"
   ]
  },
  {
   "cell_type": "code",
   "execution_count": 183,
   "id": "e8f9678d-9aec-4852-a2c6-5085d4f2a787",
   "metadata": {},
   "outputs": [
    {
     "ename": "KeyError",
     "evalue": "25",
     "output_type": "error",
     "traceback": [
      "\u001b[1;31m---------------------------------------------------------------------------\u001b[0m",
      "\u001b[1;31mKeyError\u001b[0m                                  Traceback (most recent call last)",
      "Cell \u001b[1;32mIn[183], line 8\u001b[0m\n\u001b[0;32m      6\u001b[0m \u001b[38;5;28;01mfor\u001b[39;00m i \u001b[38;5;129;01min\u001b[39;00m \u001b[38;5;28mrange\u001b[39m(\u001b[38;5;241m28\u001b[39m):\n\u001b[0;32m      7\u001b[0m     \u001b[38;5;28;01mfor\u001b[39;00m j \u001b[38;5;129;01min\u001b[39;00m \u001b[38;5;28mrange\u001b[39m(\u001b[38;5;241m28\u001b[39m):\n\u001b[1;32m----> 8\u001b[0m         chstr \u001b[38;5;241m=\u001b[39m itos[i] \u001b[38;5;241m+\u001b[39m itos[j]\n\u001b[0;32m      9\u001b[0m         plt\u001b[38;5;241m.\u001b[39mtext(j, i, chstr, ha\u001b[38;5;241m=\u001b[39m\u001b[38;5;124m\"\u001b[39m\u001b[38;5;124mcenter\u001b[39m\u001b[38;5;124m\"\u001b[39m, va\u001b[38;5;241m=\u001b[39m\u001b[38;5;124m\"\u001b[39m\u001b[38;5;124mbottom\u001b[39m\u001b[38;5;124m\"\u001b[39m, color\u001b[38;5;241m=\u001b[39m\u001b[38;5;124m'\u001b[39m\u001b[38;5;124mgray\u001b[39m\u001b[38;5;124m'\u001b[39m)\n\u001b[0;32m     10\u001b[0m         plt\u001b[38;5;241m.\u001b[39mtext(j, i, N[i,j]\u001b[38;5;241m.\u001b[39mitem(), ha\u001b[38;5;241m=\u001b[39m\u001b[38;5;124m\"\u001b[39m\u001b[38;5;124mcenter\u001b[39m\u001b[38;5;124m\"\u001b[39m, va\u001b[38;5;241m=\u001b[39m\u001b[38;5;124m\"\u001b[39m\u001b[38;5;124mtop\u001b[39m\u001b[38;5;124m\"\u001b[39m, color\u001b[38;5;241m=\u001b[39m\u001b[38;5;124m'\u001b[39m\u001b[38;5;124mgray\u001b[39m\u001b[38;5;124m'\u001b[39m)\n",
      "\u001b[1;31mKeyError\u001b[0m: 25"
     ]
    }
   ],
   "source": [
    "import matplotlib.pyplot as plt\n",
    "%matplotlib inline\n",
    "\n",
    "plt.figure(figsize=(16,16))\n",
    "plt.imshow(N, cmap='Blues')\n",
    "for i in range(28):\n",
    "    for j in range(28):\n",
    "        chstr = itos[i] + itos[j]\n",
    "        plt.text(j, i, chstr, ha=\"center\", va=\"bottom\", color='gray')\n",
    "        plt.text(j, i, N[i,j].item(), ha=\"center\", va=\"top\", color='gray')\n",
    "plt.axis('off');"
   ]
  },
  {
   "cell_type": "code",
   "execution_count": 184,
   "id": "354f3e87-d2e2-4131-acdd-ac96d76c1caf",
   "metadata": {},
   "outputs": [
    {
     "name": "stdout",
     "output_type": "stream",
     "text": [
      "Índices fora do limite: i=0, j=25\n"
     ]
    }
   ],
   "source": [
    "if i < len(itos) and j < len(itos):\n",
    "    chstr = itos[i] + itos[j]\n",
    "    plt.text(j, i, chstr, ha=\"center\", va=\"bottom\", color='gray')\n",
    "    plt.text(j, i, N[i, j].item(), ha=\"center\", va=\"top\", color='gray')\n",
    "else:\n",
    "    print(f\"Índices fora do limite: i={i}, j={j}\")"
   ]
  },
  {
   "cell_type": "code",
   "execution_count": null,
   "id": "450b191d-f1b3-4f72-8362-b5f191014932",
   "metadata": {},
   "outputs": [],
   "source": []
  },
  {
   "cell_type": "code",
   "execution_count": null,
   "id": "e8f59720-dd52-4174-a41e-1626930e88bb",
   "metadata": {},
   "outputs": [],
   "source": []
  }
 ],
 "metadata": {
  "kernelspec": {
   "display_name": "Python 3 (ipykernel)",
   "language": "python",
   "name": "python3"
  },
  "language_info": {
   "codemirror_mode": {
    "name": "ipython",
    "version": 3
   },
   "file_extension": ".py",
   "mimetype": "text/x-python",
   "name": "python",
   "nbconvert_exporter": "python",
   "pygments_lexer": "ipython3",
   "version": "3.12.7"
  }
 },
 "nbformat": 4,
 "nbformat_minor": 5
}
